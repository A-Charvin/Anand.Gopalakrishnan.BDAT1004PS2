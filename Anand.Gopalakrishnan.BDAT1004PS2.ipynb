{
 "cells": [
  {
   "cell_type": "markdown",
   "metadata": {},
   "source": [
    "**BDAT 1004 – Data Programming**\n",
    "\n",
    "\n",
    "**Problem Set 2**"
   ]
  },
  {
   "cell_type": "markdown",
   "metadata": {},
   "source": [
    "# Question 1\n",
    "Consider the following Python module:"
   ]
  },
  {
   "cell_type": "code",
   "execution_count": null,
   "metadata": {},
   "outputs": [],
   "source": [
    "a = 0\n",
    "def b():\n",
    "global a\n",
    "a = c(a)\n",
    "def c(a):\n",
    "return a + 2"
   ]
  },
  {
   "cell_type": "markdown",
   "metadata": {},
   "source": [
    "After importing the module into the interpreter, you execute:"
   ]
  },
  {
   "cell_type": "code",
   "execution_count": null,
   "metadata": {},
   "outputs": [],
   "source": [
    ">>> b()\n",
    ">>> b()\n",
    ">>> b()\n",
    ">>> a"
   ]
  },
  {
   "cell_type": "markdown",
   "metadata": {},
   "source": [
    "What value is displayed when the last expression (a) is evaluated? \n",
    "Explain your answer by indicating what happens in every executed statement."
   ]
  },
  {
   "cell_type": "markdown",
   "metadata": {},
   "source": [
    "**Answer**\n",
    "\n",
    "The value displayed when the last expression 'a' is executed will be '6'.\n",
    "\n",
    "**Here's how we arrive at this result:**\n",
    "\n",
    "1. Initially, 'a' is set to 0.\n",
    "2. Each time you call the 'b()' function, it increases the value of `a` by 2. \n",
    "So, after the first call, 'a' becomes 2. \n",
    "After the second call, it becomes 4. \n",
    "After the third call, it becomes 6.\n",
    "\n",
    "The global variable 'a' is incremented by 2 on each call to 'b()', and since it was called three times, the final value of 'a' is 6."
   ]
  },
  {
   "cell_type": "markdown",
   "metadata": {},
   "source": [
    "# Question 2"
   ]
  },
  {
   "cell_type": "markdown",
   "metadata": {},
   "source": [
    "Function fileLength(), given to you, takes the name of a file as input and returns the length of the file: \n",
    "\n",
    ">>> fileLength('midterm.py') \n",
    "284 >>> fileLength('idterm.py') \n",
    "Traceback (most recent call last): \n",
    "File \"<pyshell#34>\", line 1, in <module> fileLength('idterm.py') File \"/Users/me/midterm.py\", line 3, in fileLength infile = open(filename) FileNotFoundError: [Errno 2] No such file or directory: 'idterm.py'\n",
    "\n",
    "As shown above, if the file cannot be found by the interpreter or if it cannot be read as a text file, an exception will be raised. Modify function fileLength() so that a friendly message is printed instead: "
   ]
  },
  {
   "cell_type": "markdown",
   "metadata": {},
   "source": [
    "** Answer **\n",
    "\n",
    "The try block contains the code that might raise an exception. \n",
    "If the file does not exist, a FileNotFoundError will be raised, \n",
    "and the code in the except block will be executed."
   ]
  },
  {
   "cell_type": "code",
   "execution_count": null,
   "metadata": {},
   "outputs": [],
   "source": [
    "def file_length(file_name):\n",
    "    try:\n",
    "        # Try to open the file specified by file_name\n",
    "        file = open(file_name)\n",
    "        # Read the contents of the file\n",
    "        contents = file.read()\n",
    "        # Close the file\n",
    "        file.close()\n",
    "        # Print the length of the contents (number of characters in the file)\n",
    "        print(len(contents))\n",
    "    except FileNotFoundError:\n",
    "        # If the specified file is not found, handle the exception\n",
    "        print(f\"File {file_name} not found.\")\n"
   ]
  },
  {
   "cell_type": "markdown",
   "metadata": {},
   "source": [
    "# Question 3"
   ]
  },
  {
   "cell_type": "markdown",
   "metadata": {},
   "source": [
    "Write a class named Marsupial that can be used as shown below: \n",
    "\n",
    ">>> m = Marsupial() >>> m.put_in_pouch('doll') >>> m.put_in_pouch('firetruck') >>> m.put_in_pouch('kitten') >>> m.pouch_contents() ['doll', 'firetruck', 'kitten']\n",
    "\n",
    "Now write a class named Kangaroo as a subclass of Marsupial that inherits all the attributes of Marsupial and also:\n",
    "\n",
    "a. extends the Marsupial __init__ constructor to take, as input, the coordinates x and y of the Kangaroo object,\n",
    "\n",
    "b. supports method jump that takes number values dx and dy as input and moves the kangaroo by dx units along the x-axis and by dy units along the y-axis, and\n",
    "\n",
    "c. overloads the __str__ operator so it behaves as shown below.\n",
    "\n",
    ">>> k = Kangaroo(0,0) >>> print(k) I am a Kangaroo located at coordinates (0,0) >>> k.put_in_pouch('doll') >>> k.put_in_pouch('firetruck') >>> k.put_in_pouch('kitten') >>> k.pouch_contents() ['doll', 'firetruck', 'kitten'] >>> k.jump(1,0) >>> k.jump(1,0) >>> k.jump(1,0) >>> print(k) I am a Kangaroo located at coordinates (3,0)"
   ]
  },
  {
   "cell_type": "code",
   "execution_count": 1,
   "metadata": {},
   "outputs": [],
   "source": [
    "# THe Marsupial Class\n",
    "\n",
    "class Marsupial:\n",
    "    def __init__(self):\n",
    "        # Initialize an empty list to represent the pouch contents\n",
    "        self.pouch = []\n",
    "\n",
    "    def put_in_pouch(self, item):\n",
    "        # Add an item to the pouch\n",
    "        self.pouch.append(item)\n",
    "\n",
    "    def pouch_contents(self):\n",
    "        # Return the contents of the pouch as a list\n",
    "        return self.pouch\n"
   ]
  },
  {
   "cell_type": "code",
   "execution_count": null,
   "metadata": {},
   "outputs": [],
   "source": [
    "#The Marsupial Class with Kangaroo as a Sub Class\n",
    "\n",
    "class Marsupial:\n",
    "    def __init__(self):\n",
    "        # Initialize an empty list to represent the pouch contents\n",
    "        self.pouch = []\n",
    "\n",
    "    def put_in_pouch(self, item):\n",
    "        # Add an item to the pouch\n",
    "        self.pouch.append(item)\n",
    "\n",
    "    def pouch_contents(self):\n",
    "        # Return the contents of the pouch as a list\n",
    "        return self.pouch\n",
    "\n",
    "class Kangaroo(Marsupial):\n",
    "    def __init__(self, x, y):\n",
    "        super().__init__()  # Call the constructor of the base class\n",
    "        self.x = x  # Initialize the x-coordinate\n",
    "        self.y = y  # Initialize the y-coordinate\n",
    "\n",
    "    def jump(self, dx, dy):\n",
    "        self.x += dx  # Move along the x-axis\n",
    "        self.y += dy  # Move along the y-axis\n",
    "\n",
    "    def __str__(self):\n",
    "        # Return a string representation of the Kangaroo object\n",
    "        return f\"I am a Kangaroo located at coordinates ({self.x}, {self.y}) with pouch contents: {self.pouch_contents()}\""
   ]
  },
  {
   "cell_type": "code",
   "execution_count": 4,
   "metadata": {},
   "outputs": [
    {
     "name": "stdout",
     "output_type": "stream",
     "text": [
      "['doll', 'firetruck', 'kitten']\n",
      "I am a Kangaroo located at coordinates (0,0)\n",
      "['doll', 'firetruck', 'kitten']\n",
      "I am a Kangaroo located at coordinates (4,3)\n"
     ]
    }
   ],
   "source": [
    "#Whole program to test the same\n",
    "\n",
    "class Marsupial:\n",
    "    def __init__(self):\n",
    "        self.pouch = []\n",
    "\n",
    "    def put_in_pouch(self, item):\n",
    "        self.pouch.append(item)\n",
    "\n",
    "    def pouch_contents(self):\n",
    "        return self.pouch\n",
    "\n",
    "class Kangaroo(Marsupial):\n",
    "    def __init__(self, x, y):\n",
    "        super().__init__()\n",
    "        self.x = x\n",
    "        self.y = y\n",
    "\n",
    "    def jump(self, dx, dy):\n",
    "        self.x += dx\n",
    "        self.y += dy\n",
    "\n",
    "    def __str__(self):\n",
    "        return f\"I am a Kangaroo located at coordinates ({self.x},{self.y})\"\n",
    "\n",
    "# Testing the classes\n",
    "m = Marsupial()\n",
    "m.put_in_pouch('doll')\n",
    "m.put_in_pouch('firetruck')\n",
    "m.put_in_pouch('kitten')\n",
    "print(m.pouch_contents())  # Output: ['doll', 'firetruck', 'kitten']\n",
    "\n",
    "k = Kangaroo(0,0)\n",
    "print(k)  # Output: I am a Kangaroo located at coordinates (0,0)\n",
    "k.put_in_pouch('doll')\n",
    "k.put_in_pouch('firetruck')\n",
    "k.put_in_pouch('kitten')\n",
    "\n",
    "print(k.pouch_contents())  # Output: ['doll', 'firetruck', 'kitten']\n",
    "\n",
    "k.jump(1,0)\n",
    "k.jump(1,3)\n",
    "k.jump(2,0)\n",
    "print(k)  # Output: I am a Kangaroo located at coordinates (x,y)"
   ]
  },
  {
   "cell_type": "markdown",
   "metadata": {},
   "source": [
    "# Question 4"
   ]
  },
  {
   "cell_type": "markdown",
   "metadata": {},
   "source": [
    "Write function collatz() that takes a positive integer x as input and prints the Collatz sequence starting at x. A Collatz sequence is obtained by repeatedly applying this rule to the previous number x in the sequence:\n",
    "x = { 𝑥/2 𝑖𝑓 𝑥 𝑖𝑠 𝑒𝑣𝑒𝑛3𝑥+1 𝑖𝑓 𝑥 𝑖𝑠 𝑜𝑑𝑑\n",
    "Your function should stop when the sequence gets to number 1. Your implementation must be recursive, without any loops"
   ]
  },
  {
   "cell_type": "code",
   "execution_count": 7,
   "metadata": {},
   "outputs": [
    {
     "name": "stdout",
     "output_type": "stream",
     "text": [
      "9\n",
      "28\n",
      "14\n",
      "7\n",
      "22\n",
      "11\n",
      "34\n",
      "17\n",
      "52\n",
      "26\n",
      "13\n",
      "40\n",
      "20\n",
      "10\n",
      "5\n",
      "16\n",
      "8\n",
      "4\n",
      "2\n",
      "1\n"
     ]
    }
   ],
   "source": [
    "def collatz(x):\n",
    "    print(x)  # Print the current number in the Collatz sequence\n",
    "\n",
    "    if x == 1:\n",
    "        return  # Base case: stop when x reaches 1\n",
    "\n",
    "    if x % 2 == 0:\n",
    "        # If x is even, divide it by 2\n",
    "        collatz(x // 2)\n",
    "    else:\n",
    "        # If x is odd, apply the rule 3x + 1\n",
    "        collatz(3 * x + 1)\n",
    "\n",
    "#Execute\n",
    "collatz(9)\n"
   ]
  },
  {
   "cell_type": "markdown",
   "metadata": {},
   "source": [
    "# Question 5"
   ]
  },
  {
   "cell_type": "markdown",
   "metadata": {},
   "source": [
    "Write a recursive method binary() that takes a non-negative integer n and prints the binary representation of integer n."
   ]
  },
  {
   "cell_type": "code",
   "execution_count": 8,
   "metadata": {},
   "outputs": [
    {
     "name": "stdout",
     "output_type": "stream",
     "text": [
      "Binary representation of 7: 111\n"
     ]
    }
   ],
   "source": [
    "def binary(n):\n",
    "    if n == 0:\n",
    "        return \"0\"  # Base case: If n is 0, the binary representation is \"0\"\n",
    "    elif n == 1:\n",
    "        return \"1\"  # Base case: If n is 1, the binary representation is \"1\"\n",
    "    else:\n",
    "        # For n greater than 1, convert n to binary recursively by dividing by 2\n",
    "        # and appending the remainder (0 or 1) to the binary representation.\n",
    "        return binary(n // 2) + str(n % 2)\n",
    "\n",
    "# Input from the user\n",
    "user_input = int(input(\"Enter a non-negative integer: \"))\n",
    "if user_input < 0:\n",
    "    print(\"Please enter a non-negative integer.\")\n",
    "else:\n",
    "    # Call the binary() function to get the binary representation and print it.\n",
    "    binary_representation = binary(user_input)\n",
    "    print(f\"Binary representation of {user_input}: {binary_representation}\")\n"
   ]
  },
  {
   "cell_type": "markdown",
   "metadata": {},
   "source": [
    "# Question 6"
   ]
  },
  {
   "cell_type": "markdown",
   "metadata": {},
   "source": [
    "Implement a class named HeadingParser that can be used to parse an HTML document, and retrieve and print all the headings in the document. \n",
    "You should implement your class as a subclass of HTMLParser, defined in Standard Library module html.parser. \n",
    "\n",
    "When fed a string containing HTML code, your class should print the headings, one per line and in the order in which they appear in the document. \n",
    "Each heading should be indented as follows: an h1 heading should have indentation 0, and h2 heading should have indentation 1, etc. \n",
    "Test your implementation using w3c.html."
   ]
  },
  {
   "cell_type": "code",
   "execution_count": 21,
   "metadata": {},
   "outputs": [
    {
     "name": "stdout",
     "output_type": "stream",
     "text": [
      "W3C Mission\n",
      " Principles\n"
     ]
    }
   ],
   "source": [
    "from html.parser import HTMLParser\n",
    "\n",
    "class HeadingParser(HTMLParser):\n",
    "    def __init__(self):\n",
    "        super().__init__()\n",
    "        self.headings = []\n",
    "        self.in_heading = False\n",
    "\n",
    "    def handle_starttag(self, tag, attrs):\n",
    "        if tag.startswith('h') and tag[1:].isdigit():\n",
    "            self.in_heading = int(tag[1]) - 1\n",
    "\n",
    "    def handle_data(self, data):\n",
    "        if self.in_heading is not False:\n",
    "            self.headings.append(' ' * self.in_heading + data)\n",
    "\n",
    "    def handle_endtag(self, tag):\n",
    "        if tag.startswith('h') and tag[1:].isdigit():\n",
    "            self.in_heading = False\n",
    "\n",
    "# Read HTML content from the file\n",
    "with open(\"w3c.html\", \"r\", encoding=\"utf-8\") as file:\n",
    "    html_content = file.read()\n",
    "\n",
    "# Create a HeadingParser instance and parse the HTML\n",
    "parser = HeadingParser()\n",
    "parser.feed(html_content)\n",
    "\n",
    "# Print the headings with proper indentation\n",
    "for heading in parser.headings:\n",
    "    print(heading)\n",
    "\n",
    "\n"
   ]
  },
  {
   "cell_type": "markdown",
   "metadata": {},
   "source": [
    "# Question 7"
   ]
  },
  {
   "cell_type": "markdown",
   "metadata": {},
   "source": [
    "Implement recursive function webdir() that takes as input: a URL (as a string) and non-negative integers depth and indent.\n",
    " Your function should visit every web page reachable from the starting URL web page in depth clicks or less, and print each web page's URL. \n",
    " As shown below, indentation, specified by indent, should be used to indicate the depth of a URL."
   ]
  },
  {
   "cell_type": "code",
   "execution_count": 28,
   "metadata": {},
   "outputs": [
    {
     "name": "stdout",
     "output_type": "stream",
     "text": [
      "https://reed.cs.depaul.edu/lperkovic/csc242/\n",
      "  https://reed.cs.depaul.edu/lperkovic/csc242/lecture4/\n",
      "  https://reed.cs.depaul.edu/lperkovic/csc242/lectures/lecture5/Lecture5.ppt\n",
      "  Error: Could not open https://reed.cs.depaul.edu/lperkovic/csc242/lectures/lecture5/Lecture5.ppt\n",
      "  https://reed.cs.depaul.edu/lperkovic/csc242/homeworks/Winter2020/FinalPractice2.html\n",
      "    https://reed.cs.depaul.edu/lperkovic/csc242/homeworks/Winter2020/frankenstein.txt\n",
      "    https://reed.cs.depaul.edu/lperkovic/csc242/homeworks/Winter2020/lists.html\n",
      "    https://reed.cs.depaul.edu/lperkovic/csc242/homeworks/Winter2020/test.zip\n",
      "    Error: Could not open https://reed.cs.depaul.edu/lperkovic/csc242/homeworks/Winter2020/test.zip\n",
      "  https://reed.cs.depaul.edu/lperkovic/csc242/homeworks/Winter2020/FinalPractice.html\n",
      "    https://reed.cs.depaul.edu/lperkovic/csc242/homeworks/Winter2020/frankenstein.txt\n",
      "    https://reed.cs.depaul.edu/lperkovic/csc242/homeworks/Winter2020/lists.html\n",
      "    https://reed.cs.depaul.edu/lperkovic/csc242/homeworks/Winter2020/test.zip\n",
      "    Error: Could not open https://reed.cs.depaul.edu/lperkovic/csc242/homeworks/Winter2020/test.zip\n",
      "  https://reed.cs.depaul.edu/lperkovic/csc242/lecture10/\n",
      "  Error: Could not open https://reed.cs.depaul.edu/lperkovic/csc242/lecture10/\n",
      "  https://reed.cs.depaul.edu/lperkovic/csc242/lecture6/\n",
      "  https://reed.cs.depaul.edu/lperkovic/csc242/lecture3/\n",
      "  https://reed.cs.depaul.edu/lperkovic/csc242/lecture7/\n",
      "  https://reed.cs.depaul.edu/lperkovic/csc242/lecture8/\n",
      "  https://reed.cs.depaul.edu/lperkovic/csc242/lecture1/\n",
      "  https://reed.cs.depaul.edu/lperkovic/csc242/syllabus.html\n",
      "  Error: Could not open https://reed.cs.depaul.edu/lperkovic/csc242/syllabus.html\n",
      "  https://reed.cs.depaul.edu/lperkovic/csc242/lecture2/\n",
      "  https://reed.cs.depaul.edu/lperkovic/csc242/lecture9/\n"
     ]
    }
   ],
   "source": [
    "import urllib.request\n",
    "from urllib.parse import urljoin\n",
    "\n",
    "def webdir(url, depth, indent=0):\n",
    "    '''A recursive web directory crawler '''\n",
    "\n",
    "    if depth < 0:\n",
    "        return\n",
    "\n",
    "    print(' ' * indent + url)\n",
    "\n",
    "    try:\n",
    "        response = urllib.request.urlopen(url)\n",
    "        content = response.read().decode('utf-8')\n",
    "\n",
    "        links = set()\n",
    "        for line in content.splitlines():\n",
    "            if '<a href=' in line:\n",
    "                start = line.find('<a href=\"') + len('<a href=\"')\n",
    "                end = line.find('\"', start)\n",
    "                link = line[start:end]\n",
    "                links.add(urljoin(url, link))\n",
    "\n",
    "        for link in links:\n",
    "            webdir(link, depth - 1, indent + 2)\n",
    "    except:\n",
    "        print(' ' * indent + f\"Error: Could not open {url}\")\n",
    "\n",
    "# Example usage:\n",
    "webdir('https://reed.cs.depaul.edu/lperkovic/csc242/', 2)\n"
   ]
  },
  {
   "cell_type": "markdown",
   "metadata": {},
   "source": [
    "# Question 8"
   ]
  },
  {
   "cell_type": "markdown",
   "metadata": {},
   "source": [
    "The Table\n"
   ]
  },
  {
   "cell_type": "markdown",
   "metadata": {},
   "source": [
    "|    City     |    Country    |  Season  | Temperature (C) | Rainfall (mm) |\n",
    "|:-----------:|:-------------:|:--------:|:---------------:|:-------------:|\n",
    "|   Mumbai    |     India     |  Winter  |      24.8       |      5.9      |\n",
    "|   Mumbai    |     India     |  Spring  |      28.4       |     16.2      |\n",
    "|   Mumbai    |     India     |  Summer  |      27.9       |    1549.4     |\n",
    "|   Mumbai    |     India     |   Fall   |      27.6       |     346.0     |\n",
    "|   London    | United Kingdom|  Winter  |      4.2        |     207.7     |\n",
    "|   London    | United Kingdom|  Spring  |      8.3        |     169.6     |\n",
    "|   London    | United Kingdom|  Summer  |      15.7       |     157.0     |\n",
    "|   London    | United Kingdom|   Fall   |      10.4       |     218.5     |\n",
    "|   Cairo     |     Egypt     |  Winter  |      13.6       |      16.5     |\n",
    "|   Cairo     |     Egypt     |  Spring  |      20.7       |      6.5      |\n",
    "|   Cairo     |     Egypt     |  Summer  |      27.7       |      0.1      |\n",
    "|   Cairo     |     Egypt     |   Fall   |      22.2       |      4.5      |\n"
   ]
  },
  {
   "cell_type": "markdown",
   "metadata": {},
   "source": [
    "Write SQL queries on the below database table that return:\n",
    "\n",
    "\n",
    "a) All the temperature data:\n",
    "```sql\n",
    "SELECT Temperature\n",
    "FROM table_name;\n",
    "```\n",
    "\n",
    "b) All the cities, but without repetition:\n",
    "```sql\n",
    "SELECT DISTINCT City\n",
    "FROM table_name;\n",
    "```\n",
    "\n",
    "c) All the records for India:\n",
    "```sql\n",
    "SELECT *\n",
    "FROM table_name\n",
    "WHERE Country = 'India';\n",
    "```\n",
    "\n",
    "d) All the Fall records:\n",
    "```sql\n",
    "SELECT *\n",
    "FROM table_name\n",
    "WHERE Season = 'Fall';\n",
    "```\n",
    "\n",
    "e) The city, country, and season for which the average rainfall is between 200 and 400 millimeters:\n",
    "```sql\n",
    "SELECT City, Country, Season\n",
    "FROM table_name\n",
    "GROUP BY City, Country, Season\n",
    "HAVING AVG(Rainfall) BETWEEN 200 AND 400;\n",
    "```\n",
    "\n",
    "f) The city and country for which the average Fall temperature is above 20 degrees, in increasing temperature order:\n",
    "```sql\n",
    "SELECT City, Country\n",
    "FROM table_name\n",
    "WHERE Season = 'Fall'\n",
    "GROUP BY City, Country\n",
    "HAVING AVG(Temperature) > 20\n",
    "ORDER BY AVG(Temperature) ASC;\n",
    "```\n",
    "\n",
    "g) The total annual rainfall for Cairo:\n",
    "```sql\n",
    "SELECT City, SUM(Rainfall) AS TotalRainfall\n",
    "FROM table_name\n",
    "WHERE City = 'Cairo'\n",
    "GROUP BY City;\n",
    "```\n",
    "\n",
    "h) The total rainfall for each season:\n",
    "```sql\n",
    "SELECT Season, SUM(Rainfall) AS TotalRainfall\n",
    "FROM table_name\n",
    "GROUP BY Season;\n",
    "```"
   ]
  },
  {
   "cell_type": "markdown",
   "metadata": {},
   "source": [
    "# Question 9"
   ]
  },
  {
   "cell_type": "markdown",
   "metadata": {},
   "source": [
    "**Question a):** \n",
    "Suppose list words is defined as follows:\n",
    "```python\n",
    "words = ['The', 'quick', 'brown', 'fox', 'jumps', 'over', 'the', 'lazy', 'dog']\n",
    "```\n",
    "Write a list comprehension expression that generates the list of uppercase words.\n",
    "\n",
    "**Answer a):**\n",
    "```python\n",
    "uppercase_words = [word.upper() for word in words]\n",
    "# Output: ['THE', 'QUICK', 'BROWN', 'FOX', 'JUMPS', 'OVER', 'THE', 'LAZY', 'DOG']\n",
    "```\n",
    "\n",
    "**Question b):**\n",
    "Write a list comprehension expression that generates the list of lowercase words.\n",
    "\n",
    "**Answer b):**\n",
    "```python\n",
    "lowercase_words = [word.lower() for word in words]\n",
    "# Output: ['the', 'quick', 'brown', 'fox', 'jumps', 'over', 'the', 'lazy', 'dog']\n",
    "```\n",
    "\n",
    "**Question c):**\n",
    "Write a list comprehension expression that generates the list of word lengths.\n",
    "\n",
    "**Answer c):**\n",
    "```python\n",
    "word_lengths = [len(word) for word in words]\n",
    "# Output: [3, 5, 5, 3, 5, 4, 3, 4, 3]\n",
    "```\n",
    "\n",
    "**Question d):**\n",
    "Write a list comprehension expression that generates a list containing a sublist for each word, where each sublist contains the word in uppercase, lowercase, and the length of the word.\n",
    "\n",
    "**Answer d):**\n",
    "```python\n",
    "word_details = [[word.upper(), word.lower(), len(word)] for word in words]\n",
    "# Output: [['THE', 'the', 3], ['QUICK', 'quick', 5], ['BROWN', 'brown', 5], ['FOX', 'fox', 3], ['JUMPS', 'jumps', 5], ['OVER', 'over', 4], ['THE', 'the', 3], ['LAZY', 'lazy', 4], ['DOG', 'dog', 3]]\n",
    "```\n",
    "\n",
    "**Question e):**\n",
    "Write a list comprehension expression that generates a list of words with 4 or more characters.\n",
    "\n",
    "**Answer e):**\n",
    "```python\n",
    "long_words = [word for word in words if len(word) >= 4]\n",
    "# Output: ['quick', 'brown', 'jumps', 'over', 'lazy']\n",
    "```\n"
   ]
  }
 ],
 "metadata": {
  "kernelspec": {
   "display_name": "Python 3",
   "language": "python",
   "name": "python3"
  },
  "language_info": {
   "codemirror_mode": {
    "name": "ipython",
    "version": 3
   },
   "file_extension": ".py",
   "mimetype": "text/x-python",
   "name": "python",
   "nbconvert_exporter": "python",
   "pygments_lexer": "ipython3",
   "version": "3.11.4"
  }
 },
 "nbformat": 4,
 "nbformat_minor": 2
}
